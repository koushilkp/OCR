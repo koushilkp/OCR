{
 "cells": [
  {
   "cell_type": "code",
   "execution_count": 1,
   "id": "e9f74207",
   "metadata": {},
   "outputs": [],
   "source": [
    "import re\n",
    "str1 = \"\"\"Machine learning is a field of inquiry \n",
    "devoted to understanding and building methods that \n",
    "learn, that is, methods that leverage data to\n",
    "improve performance on some set of tasks. It is\n",
    "seen as a part of artificial intelligence\"\"\"\n",
    "# print(str1) # i want the word \n",
    "# re.findall(\"\",str1)\n",
    "# re.findall(\"a.+|e.+|i.+|o.+|u.+\",str1)\n",
    "# vovels=re.findall(re.findall(r\"\\b[aeiouAEIOU].*?\\b\",str1))\n",
    "# print(vovels)"
   ]
  },
  {
   "cell_type": "markdown",
   "id": "01de6678",
   "metadata": {},
   "source": [
    "## OCR"
   ]
  },
  {
   "cell_type": "raw",
   "id": "5d6cf8a5",
   "metadata": {},
   "source": [
    "Optical character Recognition"
   ]
  },
  {
   "cell_type": "code",
   "execution_count": 2,
   "id": "23d6f0be",
   "metadata": {},
   "outputs": [
    {
     "name": "stdout",
     "output_type": "stream",
     "text": [
      "Requirement already satisfied: tesseract in c:\\programdata\\anaconda3\\lib\\site-packages (0.1.3)\n",
      "Note: you may need to restart the kernel to use updated packages.\n"
     ]
    }
   ],
   "source": [
    "pip install tesseract"
   ]
  },
  {
   "cell_type": "code",
   "execution_count": 3,
   "id": "8c503b80",
   "metadata": {},
   "outputs": [
    {
     "name": "stdout",
     "output_type": "stream",
     "text": [
      "Requirement already satisfied: pdf2image in c:\\programdata\\anaconda3\\lib\\site-packages (1.16.2)\n",
      "Requirement already satisfied: pillow in c:\\programdata\\anaconda3\\lib\\site-packages (from pdf2image) (8.2.0)\n",
      "Note: you may need to restart the kernel to use updated packages.\n"
     ]
    }
   ],
   "source": [
    "pip install pdf2image"
   ]
  },
  {
   "cell_type": "code",
   "execution_count": 4,
   "id": "bd7f7c7a",
   "metadata": {},
   "outputs": [],
   "source": [
    "# https://github.com/UB-Mannheim/tesseract/wiki"
   ]
  },
  {
   "cell_type": "code",
   "execution_count": 5,
   "id": "b6397469",
   "metadata": {},
   "outputs": [
    {
     "name": "stdout",
     "output_type": "stream",
     "text": [
      "Requirement already satisfied: pytesseract in c:\\programdata\\anaconda3\\lib\\site-packages (0.3.10)\n",
      "Requirement already satisfied: packaging>=21.3 in c:\\programdata\\anaconda3\\lib\\site-packages (from pytesseract) (21.3)\n",
      "Requirement already satisfied: Pillow>=8.0.0 in c:\\programdata\\anaconda3\\lib\\site-packages (from pytesseract) (8.2.0)\n",
      "Requirement already satisfied: pyparsing!=3.0.5,>=2.0.2 in c:\\programdata\\anaconda3\\lib\\site-packages (from packaging>=21.3->pytesseract) (2.4.7)\n",
      "Note: you may need to restart the kernel to use updated packages.\n"
     ]
    }
   ],
   "source": [
    "pip install pytesseract"
   ]
  },
  {
   "cell_type": "markdown",
   "id": "e42a6d96",
   "metadata": {},
   "source": [
    "## Project-1"
   ]
  },
  {
   "cell_type": "code",
   "execution_count": 6,
   "id": "d396b1fd",
   "metadata": {},
   "outputs": [],
   "source": [
    "import pytesseract"
   ]
  },
  {
   "cell_type": "code",
   "execution_count": 7,
   "id": "ccee7292",
   "metadata": {},
   "outputs": [],
   "source": [
    "import pandas as pd"
   ]
  },
  {
   "cell_type": "code",
   "execution_count": null,
   "id": "2a988c56",
   "metadata": {},
   "outputs": [],
   "source": []
  },
  {
   "cell_type": "code",
   "execution_count": null,
   "id": "1f94a84a",
   "metadata": {},
   "outputs": [],
   "source": []
  },
  {
   "cell_type": "code",
   "execution_count": null,
   "id": "bc6f9700",
   "metadata": {},
   "outputs": [],
   "source": []
  },
  {
   "cell_type": "code",
   "execution_count": 8,
   "id": "e320c0a4",
   "metadata": {},
   "outputs": [
    {
     "name": "stdout",
     "output_type": "stream",
     "text": [
      "INCOME TAX DEPARTMENT GOVT. OF Uhl\n",
      "MONIKA MAHADEV SHINDE\n",
      "MAHADEV SHINDE\n",
      "31/10/1992\n",
      "\n",
      "Permanent Account Number\n",
      "\n",
      "EJAPS0276M *\n",
      "MonuIkA 74 <sHINDE\n",
      "\n",
      "\n",
      "****************************************************************************************************\n",
      "the name of the person is =====MONIKA MAHADEV SHINDE\n"
     ]
    }
   ],
   "source": [
    "path = r\"C:\\Program Files\\Tesseract-OCR\\tesseract.exe\"\n",
    "pytesseract.pytesseract.tesseract_cmd =path\n",
    "text = pytesseract.image_to_string(r\"E:\\Python class\\11_8_OCR-20220811T173240Z-001\\11_8_OCR\\pan2.jpeg\")\n",
    "print(text)\n",
    "print('*'*100)\n",
    "import re \n",
    "text1=re.findall(\"\\w.+\",text)\n",
    "print(f\"the name of the person is ====={text1[1]}\")"
   ]
  },
  {
   "cell_type": "code",
   "execution_count": 9,
   "id": "48ff1405",
   "metadata": {},
   "outputs": [
    {
     "name": "stdout",
     "output_type": "stream",
     "text": [
      "['EJAPS0276M']\n",
      "\n",
      "EJAPS0276M\n"
     ]
    }
   ],
   "source": [
    "import re\n",
    "result = re.findall(\"[A-Z]{5}\\d{4}[A-Z]\",text)\n",
    "print(result)\n",
    "print()\n",
    "print(result[0])"
   ]
  },
  {
   "cell_type": "code",
   "execution_count": 10,
   "id": "adb99c0f",
   "metadata": {},
   "outputs": [
    {
     "name": "stdout",
     "output_type": "stream",
     "text": [
      "INTERGLOBE AVIATION LIMITED\n",
      "124, JANPATH, CENTRAL WING GROUND FLOOR,\n",
      "THAPAR HOUSE, DELHI - 110001\n",
      "DELHI\n",
      "PAY SLIP FOR THE MONTH OF APRIL 2020\n",
      "\n",
      "PAN\n",
      "\n",
      "EPF No.\n",
      "MONTH DAYS\n",
      "PAID DAYS\n",
      "\n",
      "DMPPB0331F\n",
      "DL/31297/233140\n",
      "30.00\n",
      "\n",
      "30.00\n",
      "\n",
      "EMP CODE\n",
      "\n",
      "EMP NAME\n",
      "\n",
      "DATE OF JOINING\n",
      "BANK\n",
      "\n",
      "BANK A/C. NO.\n",
      "COST CENTER\n",
      "LOCATION\n",
      "DEPARTMENT\n",
      "\n",
      "IGA39441\n",
      "\n",
      "AKSHAY IRANNA BASGUNDE\n",
      "12 MAR 2019\n",
      "\n",
      "HDFC BANK\n",
      "\n",
      "50100270921114 (HDFC BANK)\n",
      "DP0102\n",
      "\n",
      "PUNE\n",
      "\n",
      "AIRPORT OPERATIONS & CUSTOMER SERVICES\n",
      "\n",
      "DESIGNATION : SECURITY OFFICER\n",
      "\n",
      "PF UAN : 101434436993\n",
      "\n",
      "PC EARNINGS rrr———C“‘SESNSC(N#RNNNN9. ©_—s—s ss ———DEDUCTIONS.—i——“‘(CSSCis\n",
      "BASIC 5104.00 5104.00 5104.00] PROVIDENT FUND 1052.00\n",
      "\n",
      "HRA 3062.00 3062.00 3062.00}ESI 111.00\n",
      "\n",
      "SPECIAL ALLOWANCE 2162.00 2162.00 2162.00]PROFESSIONAL TAX 200.00\n",
      "\n",
      "UNIFORM ALLOWANCE 1500.00 1500.00 1500.00} BENEVOLENT FUND 200.00\n",
      "\n",
      "TRANSPORT ALLOWANCE 0.00 1364.00\n",
      "\n",
      "EFFICIENCY BONUS 0.00 6000.00\n",
      "\n",
      "MONTHLY BONUS 729.00 729.00\n",
      "\n",
      "NIGHT SHIFT ALLOWANCE 0.00 800.00\n",
      "\n",
      "NET PAY 19158.00 (NINETEEN THOUSAND ONE HUNDRED FIFTY EIGHT ONLY\n",
      "\n",
      "INCOME TAX WORKSHEET FROM 01 APR 2020 - 31 MAR 2021\n",
      "GROSS |EXEMPT|TAXABLE| DEDUCTION UNDER CHAPTER VI-A__|, ~—SOTHER CALCULATIONS\n",
      "\n",
      "61248.00 0.00) 61248.00 | INVESTMENTS U/S 80C\n",
      "36744.00 0.00 | 36744.00 | PROVIDENT FUND\n",
      "25944.00 0.00\n",
      "\n",
      "DESCRIPTION\n",
      "BASIC\n",
      "HRA\n",
      "SPECIAL ALLOWANCE\n",
      "UNIFORM ALLOWANCE\n",
      "TRANSPORT ALLOWANCE\n",
      "EFFICIENCY BONUS\n",
      "MONTHLY BONUS\n",
      "NIGHT SHIFT ALLOWANCE\n",
      "\n",
      "12623.00 | FROM\n",
      "\n",
      "TO\n",
      "\n",
      "24499.00\n",
      "0.00\n",
      "\n",
      "0.00\n",
      "36744.00\n",
      "\n",
      "2. 40% OR 50% OF BASIC\n",
      "3. RENT - 10% BASIC\n",
      "LEAST OF ABOVE IS EXEMPT,\n",
      "\n",
      "800.00 TAXABLE HRA\n",
      "\n",
      "TDS DEDUCTED MONTHLY\n",
      "MONTH\n",
      "\n",
      "APRIL-2020\n",
      "\n",
      "TAX DEDUCTED ON PERQ.\n",
      "TOTAL\n",
      "\n",
      "AMOUNT\n",
      "\n",
      "158848.00 |18000.00 |140848.00 | TOTAL OF INVESTMENTS U/S 80C\n",
      "\n",
      "[DEDUCTIONS CdS\n",
      "\n",
      "50000.00 | POTAL OF DED UNDER CHAPTER VI-A)12623.00\n",
      "\n",
      "0.00\n",
      "0.00\n",
      "\n",
      "STANDARD DEDUCTION\n",
      "PREVIOUS EMPLOYER TAXABLE INCOME\n",
      "PREVIOUS EMPLOYER PROFESSIONAL TAX\n",
      "\n",
      "PROFESSIONAL TAX\n",
      "UNDER CHAPTER VI-A\n",
      "ANY OTHER INCOME\n",
      "TAXABLE INCOME\n",
      "\n",
      "2500.00\n",
      "12623.00\n",
      "0.00\n",
      "75725.00\n",
      "\n",
      "MAXIMUM TAX SLAB %\n",
      "\n",
      "TOTAL TAX\n",
      "\n",
      "TAX REBATE U/S 87A\n",
      "\n",
      "SURCHARGE\n",
      "\n",
      "TAX DUE\n",
      "\n",
      "HEALTH AND EDUCATION CESS\n",
      "\n",
      "NET TAX\n",
      "\n",
      "TAX DEDUCTED (PREVIOUS EMPLOYER)\n",
      "TAX DEDUCTED ON PERQ.\n",
      "\n",
      "TAX DEDUCTED ON ANY OTHER INCOME.\n",
      "TAX DEDUCTED TILL DATE\n",
      "\n",
      "TAX TO BE DEDUCTED\n",
      "\n",
      "TAX/MONTH\n",
      "\n",
      "TAX ON NON-RECURRING EARNINGS\n",
      "TAX DEDUCTION FOR THIS MONTH\n",
      "\n",
      "|\n",
      "RENT PAID\n",
      "\n",
      "\n"
     ]
    }
   ],
   "source": [
    "path = r\"C:\\Program Files\\Tesseract-OCR\\tesseract.exe\"\n",
    "pytesseract.pytesseract.tesseract_cmd =path\n",
    "text = pytesseract.image_to_string(r\"E:\\Python class\\11_8_OCR-20220811T173240Z-001\\11_8_OCR\\salary.jpg\")\n",
    "print(text)"
   ]
  },
  {
   "cell_type": "code",
   "execution_count": 11,
   "id": "241f497f",
   "metadata": {},
   "outputs": [
    {
     "name": "stdout",
     "output_type": "stream",
     "text": [
      "INTERGLOBE AVIATION LIMITED\n",
      "124, JANPATH, CENTRAL WING GROUND FLOOR,\n",
      "THAPAR HOUSE, DELHI - 110001\n",
      "DELHI\n",
      "PAY SLIP FOR THE MONTH OF APRIL 2020\n",
      "PAN\n",
      "EPF No.\n",
      "MONTH DAYS\n",
      "PAID DAYS\n",
      "DMPPB0331F\n",
      "DL/31297/233140\n",
      "30.00\n",
      "30.00\n",
      "EMP CODE\n",
      "EMP NAME\n",
      "DATE OF JOINING\n",
      "BANK\n",
      "BANK A/C. NO.\n",
      "COST CENTER\n",
      "LOCATION\n",
      "DEPARTMENT\n",
      "IGA39441\n",
      "AKSHAY IRANNA BASGUNDE\n",
      "12 MAR 2019\n",
      "HDFC BANK\n",
      "50100270921114 (HDFC BANK)\n",
      "DP0102\n",
      "PUNE\n",
      "AIRPORT OPERATIONS & CUSTOMER SERVICES\n",
      "DESIGNATION : SECURITY OFFICER\n",
      "PF UAN : 101434436993\n",
      "PC EARNINGS rrr———C“‘SESNSC(N#RNNNN9. ©_—s—s ss ———DEDUCTIONS.—i——“‘(CSSCis\n",
      "BASIC 5104.00 5104.00 5104.00] PROVIDENT FUND 1052.00\n",
      "HRA 3062.00 3062.00 3062.00}ESI 111.00\n",
      "SPECIAL ALLOWANCE 2162.00 2162.00 2162.00]PROFESSIONAL TAX 200.00\n",
      "UNIFORM ALLOWANCE 1500.00 1500.00 1500.00} BENEVOLENT FUND 200.00\n",
      "TRANSPORT ALLOWANCE 0.00 1364.00\n",
      "EFFICIENCY BONUS 0.00 6000.00\n",
      "MONTHLY BONUS 729.00 729.00\n",
      "NIGHT SHIFT ALLOWANCE 0.00 800.00\n",
      "NET PAY 19158.00 (NINETEEN THOUSAND ONE HUNDRED FIFTY EIGHT ONLY\n",
      "INCOME TAX WORKSHEET FROM 01 APR 2020 - 31 MAR 2021\n",
      "GROSS |EXEMPT|TAXABLE| DEDUCTION UNDER CHAPTER VI-A__|, ~—SOTHER CALCULATIONS\n",
      "61248.00 0.00) 61248.00 | INVESTMENTS U/S 80C\n",
      "36744.00 0.00 | 36744.00 | PROVIDENT FUND\n",
      "25944.00 0.00\n",
      "DESCRIPTION\n",
      "BASIC\n",
      "HRA\n",
      "SPECIAL ALLOWANCE\n",
      "UNIFORM ALLOWANCE\n",
      "TRANSPORT ALLOWANCE\n",
      "EFFICIENCY BONUS\n",
      "MONTHLY BONUS\n",
      "NIGHT SHIFT ALLOWANCE\n",
      "12623.00 | FROM\n",
      "TO\n",
      "24499.00\n",
      "0.00\n",
      "0.00\n",
      "36744.00\n",
      "2. 40% OR 50% OF BASIC\n",
      "3. RENT - 10% BASIC\n",
      "LEAST OF ABOVE IS EXEMPT,\n",
      "800.00 TAXABLE HRA\n",
      "TDS DEDUCTED MONTHLY\n",
      "MONTH\n",
      "APRIL-2020\n",
      "TAX DEDUCTED ON PERQ.\n",
      "TOTAL\n",
      "AMOUNT\n",
      "158848.00 |18000.00 |140848.00 | TOTAL OF INVESTMENTS U/S 80C\n",
      "[DEDUCTIONS CdS\n",
      "50000.00 | POTAL OF DED UNDER CHAPTER VI-A)12623.00\n",
      "0.00\n",
      "0.00\n",
      "STANDARD DEDUCTION\n",
      "PREVIOUS EMPLOYER TAXABLE INCOME\n",
      "PREVIOUS EMPLOYER PROFESSIONAL TAX\n",
      "PROFESSIONAL TAX\n",
      "UNDER CHAPTER VI-A\n",
      "ANY OTHER INCOME\n",
      "TAXABLE INCOME\n",
      "2500.00\n",
      "12623.00\n",
      "0.00\n",
      "75725.00\n",
      "MAXIMUM TAX SLAB %\n",
      "TOTAL TAX\n",
      "TAX REBATE U/S 87A\n",
      "SURCHARGE\n",
      "TAX DUE\n",
      "HEALTH AND EDUCATION CESS\n",
      "NET TAX\n",
      "TAX DEDUCTED (PREVIOUS EMPLOYER)\n",
      "TAX DEDUCTED ON PERQ.\n",
      "TAX DEDUCTED ON ANY OTHER INCOME.\n",
      "TAX DEDUCTED TILL DATE\n",
      "TAX TO BE DEDUCTED\n",
      "TAX/MONTH\n",
      "TAX ON NON-RECURRING EARNINGS\n",
      "TAX DEDUCTION FOR THIS MONTH\n",
      "|\n",
      "RENT PAID\n",
      "\n"
     ]
    }
   ],
   "source": [
    "result = re.sub(\"\\n+\",\"\\n\",text)\n",
    "print(result)"
   ]
  },
  {
   "cell_type": "code",
   "execution_count": 12,
   "id": "a96c4828",
   "metadata": {},
   "outputs": [
    {
     "name": "stdout",
     "output_type": "stream",
     "text": [
      "INTERGLOBE AVIATION LIMITED\n",
      "124, JANPATH, CENTRAL WING GROUND FLOOR,\n",
      "THAPAR HOUSE, DELHI  110001\n",
      "DELHI\n",
      "PAY SLIP FOR THE MONTH OF APRIL 2020\n",
      "PAN\n",
      "EPF No.\n",
      "MONTH DAYS\n",
      "PAID DAYS\n",
      "DMPPB0331F\n",
      "DL31297233140\n",
      "30.00\n",
      "30.00\n",
      "EMP CODE\n",
      "EMP NAME\n",
      "DATE OF JOINING\n",
      "BANK\n",
      "BANK AC. NO.\n",
      "COST CENTER\n",
      "LOCATION\n",
      "DEPARTMENT\n",
      "IGA39441\n",
      "AKSHAY IRANNA BASGUNDE\n",
      "12 MAR 2019\n",
      "HDFC BANK\n",
      "50100270921114 (HDFC BANK)\n",
      "DP0102\n",
      "PUNE\n",
      "AIRPORT OPERATIONS & CUSTOMER SERVICES\n",
      "DESIGNATION : SECURITY OFFICER\n",
      "PF UAN : 101434436993\n",
      "PC EARNINGS rrr———C“‘SESNSC(N#RNNNN9. ©—s—s ss ———DEDUCTIONS.—i——“‘(CSSCis\n",
      "BASIC 5104.00 5104.00 5104.00] PROVIDENT FUND 1052.00\n",
      "HRA 3062.00 3062.00 3062.00}ESI 111.00\n",
      "SPECIAL ALLOWANCE 2162.00 2162.00 2162.00]PROFESSIONAL TAX 200.00\n",
      "UNIFORM ALLOWANCE 1500.00 1500.00 1500.00} BENEVOLENT FUND 200.00\n",
      "TRANSPORT ALLOWANCE 0.00 1364.00\n",
      "EFFICIENCY BONUS 0.00 6000.00\n",
      "MONTHLY BONUS 729.00 729.00\n",
      "NIGHT SHIFT ALLOWANCE 0.00 800.00\n",
      "NET PAY 19158.00 (NINETEEN THOUSAND ONE HUNDRED FIFTY EIGHT ONLY\n",
      "INCOME TAX WORKSHEET FROM 01 APR 2020  31 MAR 2021\n",
      "GROSS EXEMPTTAXABLE DEDUCTION UNDER CHAPTER VIA, ~—SOTHER CALCULATIONS\n",
      "61248.00 0.00) 61248.00  INVESTMENTS US 80C\n",
      "36744.00 0.00  36744.00  PROVIDENT FUND\n",
      "25944.00 0.00\n",
      "DESCRIPTION\n",
      "BASIC\n",
      "HRA\n",
      "SPECIAL ALLOWANCE\n",
      "UNIFORM ALLOWANCE\n",
      "TRANSPORT ALLOWANCE\n",
      "EFFICIENCY BONUS\n",
      "MONTHLY BONUS\n",
      "NIGHT SHIFT ALLOWANCE\n",
      "12623.00  FROM\n",
      "TO\n",
      "24499.00\n",
      "0.00\n",
      "0.00\n",
      "36744.00\n",
      "2. 40 OR 50 OF BASIC\n",
      "3. RENT  10 BASIC\n",
      "LEAST OF ABOVE IS EXEMPT,\n",
      "800.00 TAXABLE HRA\n",
      "TDS DEDUCTED MONTHLY\n",
      "MONTH\n",
      "APRIL2020\n",
      "TAX DEDUCTED ON PERQ.\n",
      "TOTAL\n",
      "AMOUNT\n",
      "158848.00 18000.00 140848.00  TOTAL OF INVESTMENTS US 80C\n",
      "[DEDUCTIONS CdS\n",
      "50000.00  POTAL OF DED UNDER CHAPTER VIA)12623.00\n",
      "0.00\n",
      "0.00\n",
      "STANDARD DEDUCTION\n",
      "PREVIOUS EMPLOYER TAXABLE INCOME\n",
      "PREVIOUS EMPLOYER PROFESSIONAL TAX\n",
      "PROFESSIONAL TAX\n",
      "UNDER CHAPTER VIA\n",
      "ANY OTHER INCOME\n",
      "TAXABLE INCOME\n",
      "2500.00\n",
      "12623.00\n",
      "0.00\n",
      "75725.00\n",
      "MAXIMUM TAX SLAB \n",
      "TOTAL TAX\n",
      "TAX REBATE US 87A\n",
      "SURCHARGE\n",
      "TAX DUE\n",
      "HEALTH AND EDUCATION CESS\n",
      "NET TAX\n",
      "TAX DEDUCTED (PREVIOUS EMPLOYER)\n",
      "TAX DEDUCTED ON PERQ.\n",
      "TAX DEDUCTED ON ANY OTHER INCOME.\n",
      "TAX DEDUCTED TILL DATE\n",
      "TAX TO BE DEDUCTED\n",
      "TAXMONTH\n",
      "TAX ON NONRECURRING EARNINGS\n",
      "TAX DEDUCTION FOR THIS MONTH\n",
      "\n",
      "RENT PAID\n",
      "\n"
     ]
    }
   ],
   "source": [
    "import re\n",
    "result1 = re.sub(\"[-|/_%]\",\"\",result)\n",
    "print(result1)"
   ]
  },
  {
   "cell_type": "code",
   "execution_count": 13,
   "id": "809bb156",
   "metadata": {},
   "outputs": [
    {
     "name": "stdout",
     "output_type": "stream",
     "text": [
      "&\n",
      "\n",
      "ster ferst\n",
      "\n",
      "INCOME TAX DEPARTMENT. J\n",
      "D MANIKANDAN\n",
      "DURAISAMY\n",
      "16/07/1986\n",
      "ari eld:\n",
      "BNZPM2501F\n",
      "/\n",
      "\n",
      "Signature £ ¥\n",
      "\n"
     ]
    }
   ],
   "source": [
    "path = r\"C:\\Program Files\\Tesseract-OCR\\tesseract.exe\"\n",
    "pytesseract.pytesseract.tesseract_cmd =path\n",
    "text = pytesseract.image_to_string(r\"E:\\Python class\\11_8_OCR-20220811T173240Z-001\\11_8_OCR\\pan1.jpg\")\n",
    "print(text)"
   ]
  },
  {
   "cell_type": "code",
   "execution_count": 14,
   "id": "73020193",
   "metadata": {},
   "outputs": [
    {
     "name": "stdout",
     "output_type": "stream",
     "text": [
      "BNZPM2501F\n"
     ]
    }
   ],
   "source": [
    "pattern = re.compile(\"[A-Z]{5}\\d{4}[A-Z]\") # CREATED OBJECT\n",
    "pan1 = pattern.search(text)\n",
    "print(pan1.group())"
   ]
  },
  {
   "cell_type": "code",
   "execution_count": 15,
   "id": "e0e4b147",
   "metadata": {},
   "outputs": [
    {
     "data": {
      "text/plain": [
       "('BNZPM2501F', '16/07/1986')"
      ]
     },
     "execution_count": 15,
     "metadata": {},
     "output_type": "execute_result"
    }
   ],
   "source": [
    "def get_pandetails(text):\n",
    "    pattern_pan = re.compile(\"[A-Z]{5}\\d{4}[A-Z]\")\n",
    "    pattern_dob = re.compile(\"\\d{1,2}/\\d{1,2}/\\d{2,4}\")\n",
    "    pan = pattern_pan.search(text).group()\n",
    "    dob = pattern_dob.search(text)\n",
    "    return pan, dob.group()\n",
    "get_pandetails(text)"
   ]
  },
  {
   "cell_type": "code",
   "execution_count": 16,
   "id": "189890ce",
   "metadata": {},
   "outputs": [
    {
     "name": "stdout",
     "output_type": "stream",
     "text": [
      "&\n",
      "\n",
      "ster ferst\n",
      "\n",
      "INCOME TAX DEPARTMENT. J\n",
      "D MANIKANDAN\n",
      "DURAISAMY\n",
      "16/07/1986\n",
      "ari eld:\n",
      "BNZPM2501F\n",
      "/\n",
      "\n",
      "Signature £ ¥\n",
      "\n"
     ]
    }
   ],
   "source": [
    "a = text.split(\"\\n\")\n",
    "for i,line in enumerate(a):\n",
    "    print(line)"
   ]
  },
  {
   "cell_type": "code",
   "execution_count": 17,
   "id": "cd72dd43",
   "metadata": {},
   "outputs": [
    {
     "name": "stdout",
     "output_type": "stream",
     "text": [
      "{'Card Holder': ['D MANIKANDAN'], 'Father Name': ['DURAISAMY'], 'Pan Number': ['BNZPM2501F'], 'DOB': ['16/07/1986']}\n"
     ]
    }
   ],
   "source": [
    "def get_pan(text):\n",
    "    new_data = text.split(\"\\n\")\n",
    "    pan = re.search(\"[A-Z]{5}\\d{4}[A-Z]\",text)\n",
    "    dob = re.search(\"\\d{1,2}/\\d{1,2}/\\d{2,4}\",text)\n",
    "    for i,line in enumerate(new_data):\n",
    "        if re.findall(\"TAX\",line):\n",
    "            card_holder_name = new_data[i+1]\n",
    "            father_name = new_data[i+2]\n",
    "    pancard_details = {\"Card Holder\":[card_holder_name], \n",
    "                       \"Father Name\":[father_name],\n",
    "                       \"Pan Number\":[pan.group()],\n",
    "                       \"DOB\":[dob.group()]}\n",
    "    return pancard_details\n",
    "details = get_pan(text)\n",
    "print(details)"
   ]
  },
  {
   "cell_type": "code",
   "execution_count": 18,
   "id": "b6762dd8",
   "metadata": {},
   "outputs": [
    {
     "data": {
      "text/html": [
       "<div>\n",
       "<style scoped>\n",
       "    .dataframe tbody tr th:only-of-type {\n",
       "        vertical-align: middle;\n",
       "    }\n",
       "\n",
       "    .dataframe tbody tr th {\n",
       "        vertical-align: top;\n",
       "    }\n",
       "\n",
       "    .dataframe thead th {\n",
       "        text-align: right;\n",
       "    }\n",
       "</style>\n",
       "<table border=\"1\" class=\"dataframe\">\n",
       "  <thead>\n",
       "    <tr style=\"text-align: right;\">\n",
       "      <th></th>\n",
       "      <th>Card Holder</th>\n",
       "      <th>Father Name</th>\n",
       "      <th>Pan Number</th>\n",
       "      <th>DOB</th>\n",
       "    </tr>\n",
       "  </thead>\n",
       "  <tbody>\n",
       "    <tr>\n",
       "      <th>0</th>\n",
       "      <td>D MANIKANDAN</td>\n",
       "      <td>DURAISAMY</td>\n",
       "      <td>BNZPM2501F</td>\n",
       "      <td>16/07/1986</td>\n",
       "    </tr>\n",
       "  </tbody>\n",
       "</table>\n",
       "</div>"
      ],
      "text/plain": [
       "    Card Holder Father Name  Pan Number         DOB\n",
       "0  D MANIKANDAN   DURAISAMY  BNZPM2501F  16/07/1986"
      ]
     },
     "execution_count": 18,
     "metadata": {},
     "output_type": "execute_result"
    }
   ],
   "source": [
    "import pandas as pd\n",
    "df  = pd.DataFrame(details)\n",
    "df"
   ]
  },
  {
   "cell_type": "code",
   "execution_count": 19,
   "id": "3008818f",
   "metadata": {},
   "outputs": [],
   "source": [
    "df.to_csv(\"pan_details.csv\")"
   ]
  },
  {
   "cell_type": "code",
   "execution_count": 20,
   "id": "f0a22c70",
   "metadata": {},
   "outputs": [],
   "source": [
    "df.to_excel(\"pan_details.xlsx\")"
   ]
  },
  {
   "cell_type": "code",
   "execution_count": 21,
   "id": "f38df83d",
   "metadata": {},
   "outputs": [],
   "source": [
    "df.to_json(\"pan_details.json\")"
   ]
  },
  {
   "cell_type": "markdown",
   "id": "8c90aa7f",
   "metadata": {},
   "source": [
    "## Project -2"
   ]
  },
  {
   "cell_type": "code",
   "execution_count": 22,
   "id": "736decb9",
   "metadata": {},
   "outputs": [
    {
     "ename": "NotADirectoryError",
     "evalue": "[WinError 267] The directory name is invalid: 'E:\\\\Python class\\\\11_8_OCR-20220811T173240Z-001\\\\11_8_OCR\\\\pan2.jpeg'",
     "output_type": "error",
     "traceback": [
      "\u001b[1;31m---------------------------------------------------------------------------\u001b[0m",
      "\u001b[1;31mNotADirectoryError\u001b[0m                        Traceback (most recent call last)",
      "\u001b[1;32m<ipython-input-22-aca0bdb22672>\u001b[0m in \u001b[0;36m<module>\u001b[1;34m\u001b[0m\n\u001b[0;32m      1\u001b[0m \u001b[1;32mimport\u001b[0m \u001b[0mos\u001b[0m\u001b[1;33m\u001b[0m\u001b[1;33m\u001b[0m\u001b[0m\n\u001b[0;32m      2\u001b[0m \u001b[0mfolder_path\u001b[0m \u001b[1;33m=\u001b[0m \u001b[1;34mr\"E:\\Python class\\11_8_OCR-20220811T173240Z-001\\11_8_OCR\\pan2.jpeg\"\u001b[0m\u001b[1;33m\u001b[0m\u001b[1;33m\u001b[0m\u001b[0m\n\u001b[1;32m----> 3\u001b[1;33m \u001b[0mfile_name\u001b[0m \u001b[1;33m=\u001b[0m \u001b[0mos\u001b[0m\u001b[1;33m.\u001b[0m\u001b[0mlistdir\u001b[0m\u001b[1;33m(\u001b[0m\u001b[0mfolder_path\u001b[0m\u001b[1;33m)\u001b[0m\u001b[1;33m\u001b[0m\u001b[1;33m\u001b[0m\u001b[0m\n\u001b[0m\u001b[0;32m      4\u001b[0m \u001b[1;32mfor\u001b[0m \u001b[0mfile\u001b[0m \u001b[1;32min\u001b[0m \u001b[0mfile_name\u001b[0m\u001b[1;33m:\u001b[0m\u001b[1;33m\u001b[0m\u001b[1;33m\u001b[0m\u001b[0m\n\u001b[0;32m      5\u001b[0m     \u001b[0mimage_path\u001b[0m \u001b[1;33m=\u001b[0m \u001b[0mos\u001b[0m\u001b[1;33m.\u001b[0m\u001b[0mpath\u001b[0m\u001b[1;33m.\u001b[0m\u001b[0mjoin\u001b[0m\u001b[1;33m(\u001b[0m\u001b[0mfolder_path\u001b[0m\u001b[1;33m,\u001b[0m\u001b[0mfile\u001b[0m\u001b[1;33m)\u001b[0m\u001b[1;33m\u001b[0m\u001b[1;33m\u001b[0m\u001b[0m\n",
      "\u001b[1;31mNotADirectoryError\u001b[0m: [WinError 267] The directory name is invalid: 'E:\\\\Python class\\\\11_8_OCR-20220811T173240Z-001\\\\11_8_OCR\\\\pan2.jpeg'"
     ]
    }
   ],
   "source": [
    "import os\n",
    "folder_path = r\"E:\\Python class\\11_8_OCR-20220811T173240Z-001\\11_8_OCR\\pan2.jpeg\"\n",
    "file_name = os.listdir(folder_path)\n",
    "for file in file_name:\n",
    "    image_path = os.path.join(folder_path,file)\n",
    "    text1 = pytesseract.image_to_string(image_path)\n",
    "    pan_num = re.findall(r\"[A-Z]{5}\\d{4}[A-Z]\",text1)\n",
    "    print(pan_num[0])"
   ]
  },
  {
   "cell_type": "code",
   "execution_count": null,
   "id": "fa41770a",
   "metadata": {},
   "outputs": [],
   "source": [
    "import os\n",
    "folder_path = r\"E:\\27_JUNE_2022\\11_8_OCR\\pancard\"\n",
    "file_name = os.listdir(folder_path)\n",
    "pan_lst , dob_lst = [],[]\n",
    "for file in file_name:\n",
    "    image_path = os.path.join(folder_path,file)\n",
    "    text1 = pytesseract.image_to_string(image_path)\n",
    "    pan_num = re.findall(r\"[A-Z]{5}\\d{4}[A-Z]\",text1)\n",
    "    if pan_num:\n",
    "        pan_lst.append(pan_num[0])\n",
    "    else:\n",
    "        pan_lst.append(\"\")\n",
    "    dob = re.findall(r\"\\d{1,2}/\\d{1,2}/\\d{4}\",text1)\n",
    "    if dob:\n",
    "        dob_lst.append(dob[0])\n",
    "    else:\n",
    "        dob_lst.append(\"\")\n",
    "print(dob_lst)\n",
    "print()\n",
    "print(pan_lst)"
   ]
  },
  {
   "cell_type": "code",
   "execution_count": null,
   "id": "c6ffc3ba",
   "metadata": {},
   "outputs": [],
   "source": [
    "dict1 = {\"Pan Card\":pan_lst,\"DOB\":dob_lst}\n",
    "print(dict1)"
   ]
  },
  {
   "cell_type": "code",
   "execution_count": null,
   "id": "10b70193",
   "metadata": {},
   "outputs": [],
   "source": [
    "df = pd.DataFrame(dict1)\n",
    "df"
   ]
  },
  {
   "cell_type": "code",
   "execution_count": null,
   "id": "9559fa18",
   "metadata": {},
   "outputs": [],
   "source": [
    "df.to_csv(\"pandetails.csv\")"
   ]
  },
  {
   "cell_type": "code",
   "execution_count": null,
   "id": "412e6db8",
   "metadata": {},
   "outputs": [],
   "source": []
  }
 ],
 "metadata": {
  "kernelspec": {
   "display_name": "Python 3",
   "language": "python",
   "name": "python3"
  },
  "language_info": {
   "codemirror_mode": {
    "name": "ipython",
    "version": 3
   },
   "file_extension": ".py",
   "mimetype": "text/x-python",
   "name": "python",
   "nbconvert_exporter": "python",
   "pygments_lexer": "ipython3",
   "version": "3.8.8"
  }
 },
 "nbformat": 4,
 "nbformat_minor": 5
}
